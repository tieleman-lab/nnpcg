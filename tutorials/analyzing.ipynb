{
 "cells": [
  {
   "cell_type": "code",
   "execution_count": 1,
   "metadata": {},
   "outputs": [],
   "source": [
    "import matplotlib\n",
    "import matplotlib.pyplot as plt\n",
    "import seaborn as sns\n",
    "from moleculekit.molecule import Molecule\n",
    "from tutorial_utils import plotContour, plotstates\n",
    "\n",
    "from pyemma.coordinates.transform.tica import TICA as TICApyemma\n",
    "from tutorial_utils import computeWeights\n",
    "\n",
    "from model import Model"
   ]
  },
  {
   "cell_type": "code",
   "execution_count": 2,
   "metadata": {},
   "outputs": [
    {
     "ename": "AttributeError",
     "evalue": "'Model' object has no attribute 'load'",
     "output_type": "error",
     "traceback": [
      "\u001b[0;31m---------------------------------------------------------------------------\u001b[0m",
      "\u001b[0;31mAttributeError\u001b[0m                            Traceback (most recent call last)",
      "Cell \u001b[0;32mIn[2], line 4\u001b[0m\n\u001b[1;32m      1\u001b[0m refmol \u001b[39m=\u001b[39m Molecule(\u001b[39m'\u001b[39m\u001b[39m/home/dpastor/Dropbox (Biocomputing)/GitHub/projects/nnpcg/nnpcg/data/analysis/proteing_1mi0.pdb\u001b[39m\u001b[39m'\u001b[39m)\n\u001b[1;32m      2\u001b[0m reftic \u001b[39m=\u001b[39m TICApyemma(\u001b[39m20\u001b[39m)\u001b[39m.\u001b[39mload(\u001b[39m'\u001b[39m\u001b[39m/home/dpastor/Dropbox (Biocomputing)/GitHub/projects/nnpcg/nnpcg/data/analysis/proteing_TICA_lag20_CAdist_skip1.dat\u001b[39m\u001b[39m'\u001b[39m)\n\u001b[0;32m----> 4\u001b[0m refmodel \u001b[39m=\u001b[39m Model(file\u001b[39m=\u001b[39;49m\u001b[39m'\u001b[39;49m\u001b[39mTutorial-files/proteing_model_lag10ns_1200k_4ticadim_CAdist_skip1.dat\u001b[39;49m\u001b[39m'\u001b[39;49m)\n\u001b[1;32m      5\u001b[0m mweights \u001b[39m=\u001b[39m computeWeights(refmodel)\n",
      "File \u001b[0;32m~/Dropbox (Biocomputing)/GitHub/projects/nnpcg/tutorials/model.py:46\u001b[0m, in \u001b[0;36mModel.__init__\u001b[0;34m(self, data, file)\u001b[0m\n\u001b[1;32m     44\u001b[0m \u001b[39mif\u001b[39;00m data \u001b[39mis\u001b[39;00m \u001b[39mNone\u001b[39;00m:\n\u001b[1;32m     45\u001b[0m     \u001b[39mif\u001b[39;00m file \u001b[39mis\u001b[39;00m \u001b[39mnot\u001b[39;00m \u001b[39mNone\u001b[39;00m:\n\u001b[0;32m---> 46\u001b[0m         \u001b[39mself\u001b[39;49m\u001b[39m.\u001b[39;49mload(file)\n\u001b[1;32m     47\u001b[0m     \u001b[39mreturn\u001b[39;00m\n\u001b[1;32m     48\u001b[0m \u001b[39melse\u001b[39;00m:\n",
      "\u001b[0;31mAttributeError\u001b[0m: 'Model' object has no attribute 'load'"
     ]
    }
   ],
   "source": [
    "refmol = Molecule('/home/dpastor/Dropbox (Biocomputing)/GitHub/projects/nnpcg/nnpcg/data/analysis/proteing_1mi0.pdb')\n",
    "reftic = TICApyemma(20).load('/home/dpastor/Dropbox (Biocomputing)/GitHub/projects/nnpcg/nnpcg/data/analysis/proteing_TICA_lag20_CAdist_skip1.dat')\n",
    "\n",
    "refmodel = Model(file='Tutorial-files/proteing_model_lag10ns_1200k_4ticadim_CAdist_skip1.dat')\n",
    "mweights = computeWeights(refmodel)"
   ]
  },
  {
   "cell_type": "code",
   "execution_count": null,
   "metadata": {},
   "outputs": [],
   "source": []
  }
 ],
 "metadata": {
  "kernelspec": {
   "display_name": "nnpcg",
   "language": "python",
   "name": "python3"
  },
  "language_info": {
   "codemirror_mode": {
    "name": "ipython",
    "version": 3
   },
   "file_extension": ".py",
   "mimetype": "text/x-python",
   "name": "python",
   "nbconvert_exporter": "python",
   "pygments_lexer": "ipython3",
   "version": "3.9.16"
  },
  "orig_nbformat": 4
 },
 "nbformat": 4,
 "nbformat_minor": 2
}
