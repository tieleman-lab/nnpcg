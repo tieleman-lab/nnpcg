{
 "cells": [
  {
   "attachments": {},
   "cell_type": "markdown",
   "metadata": {},
   "source": [
    "## Run this tutorial with the **nnpcg_ana** environment"
   ]
  },
  {
   "cell_type": "markdown",
   "metadata": {},
   "source": [
    "### Importing libraries"
   ]
  },
  {
   "cell_type": "code",
   "execution_count": 2,
   "metadata": {},
   "outputs": [],
   "source": [
    "import os\n",
    "import matplotlib\n",
    "from htmd.ui import *\n",
    "import seaborn as sns\n",
    "import matplotlib.pyplot as plt\n",
    "from nnpcg.analyzer import EasyAnalyzer\n",
    "from nnpcg.analyzer import sample_state, build_backbone"
   ]
  },
  {
   "attachments": {},
   "cell_type": "markdown",
   "metadata": {},
   "source": [
    "### Step 1: Loading the dataset"
   ]
  },
  {
   "cell_type": "code",
   "execution_count": null,
   "metadata": {},
   "outputs": [],
   "source": [
    "# modify the next variable with the path to the folder where you cloned the repository\n",
    "path_to_repo = '/home/dpastor/Dropbox (Biocomputing)/GitHub/projects/nnpcg'\n",
    "\n",
    "# defining the path to the analysis folder\n",
    "analysis_data_folder = os.path.join(path_to_repo, 'nnpcg/data/analysis')\n",
    "\n",
    "analysis_test = EasyAnalyzer(refmodel=os.path.join(analysis_data_folder, 'proteing_1mi0.pdb'), reftic=os.path.join(analysis_data_folder, 'proteing_TICA_lag20_CAdist_skip1.dat'), refmodel=os.path.join(analysis_data_folder, 'proteing_model_lag10ns_1200k_4ticadim_CAdist_skip1.dat'))\n"
   ]
  },
  {
   "attachments": {},
   "cell_type": "markdown",
   "metadata": {},
   "source": [
    "### Step 2: Plotting the TICA projection of the data"
   ]
  },
  {
   "cell_type": "code",
   "execution_count": 1,
   "metadata": {},
   "outputs": [],
   "source": [
    "analysis_test.plot_ref_tic()"
   ]
  },
  {
   "cell_type": "code",
   "execution_count": null,
   "metadata": {},
   "outputs": [],
   "source": []
  }
 ],
 "metadata": {
  "kernelspec": {
   "display_name": "nnpcg",
   "language": "python",
   "name": "python3"
  },
  "language_info": {
   "codemirror_mode": {
    "name": "ipython",
    "version": 3
   },
   "file_extension": ".py",
   "mimetype": "text/x-python",
   "name": "python",
   "nbconvert_exporter": "python",
   "pygments_lexer": "ipython3",
   "version": "3.9.16"
  },
  "orig_nbformat": 4
 },
 "nbformat": 4,
 "nbformat_minor": 2
}
