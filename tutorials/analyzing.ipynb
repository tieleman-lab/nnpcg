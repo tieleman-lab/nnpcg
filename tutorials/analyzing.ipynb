{
 "cells": [
  {
   "attachments": {},
   "cell_type": "markdown",
   "metadata": {},
   "source": [
    "## Run this tutorial with the **nnpcg_ana** environment"
   ]
  },
  {
   "cell_type": "markdown",
   "metadata": {},
   "source": [
    "### Importing libraries"
   ]
  },
  {
   "cell_type": "code",
   "execution_count": 2,
   "metadata": {},
   "outputs": [],
   "source": [
    "import os\n",
    "import matplotlib\n",
    "import numpy as np\n",
    "from htmd.ui import *\n",
    "import seaborn as sns\n",
    "import matplotlib.pyplot as plt\n",
    "from nnpcg.analyzer import EasyAnalyzer\n",
    "from nnpcg.analyzer import sample_state, build_backbone, plotContour"
   ]
  },
  {
   "attachments": {},
   "cell_type": "markdown",
   "metadata": {},
   "source": [
    "### Step 1: Loading the dataset"
   ]
  },
  {
   "cell_type": "code",
   "execution_count": null,
   "metadata": {},
   "outputs": [],
   "source": [
    "# modify the next variable with the path to the folder where you cloned the repository\n",
    "path_to_repo = '/home/dpastor/Dropbox (Biocomputing)/GitHub/projects/nnpcg'\n",
    "\n",
    "# defining the path to the analysis folder\n",
    "analysis_data_folder = os.path.join(path_to_repo, 'nnpcg/data/analysis')\n",
    "\n",
    "# creating the EasyAnalyzer object\n",
    "analysis_test = EasyAnalyzer(refmodel=os.path.join(analysis_data_folder, 'proteing_1mi0.pdb'), reftic=os.path.join(analysis_data_folder, 'proteing_TICA_lag20_CAdist_skip1.dat'), refmodel=os.path.join(analysis_data_folder, 'proteing_model_lag10ns_1200k_4ticadim_CAdist_skip1.dat'))"
   ]
  },
  {
   "attachments": {},
   "cell_type": "markdown",
   "metadata": {},
   "source": [
    "### Step 2: Plotting the TICA projection for the all-atom reference"
   ]
  },
  {
   "cell_type": "code",
   "execution_count": 1,
   "metadata": {},
   "outputs": [],
   "source": [
    "# The figure depicted illustrates the estimation of the free-energy surface obtained through MD simulations as a \n",
    "# reference. We will employ this as a benchmark to assess and contrast the results of our coarse-grained simulations\n",
    "# executed using the trained potential.\n",
    "analysis_test.plot_ref_tic()"
   ]
  },
  {
   "attachments": {},
   "cell_type": "markdown",
   "metadata": {},
   "source": [
    "### Step 3: Loading the resulting CG trajectories"
   ]
  },
  {
   "cell_type": "code",
   "execution_count": null,
   "metadata": {},
   "outputs": [],
   "source": [
    "sims = simlist(glob(analysis_data_folder + '/proteing_32trajs_250_ts1/*'), os.path.join(analysis_data_folder, 'proteing_ca_top_dih.pdb'))\n",
    "analysis_test.load_cg_data(sims)"
   ]
  },
  {
   "attachments": {},
   "cell_type": "markdown",
   "metadata": {},
   "source": [
    "### Step 4: Dimensionality reduction of the CG simulations"
   ]
  },
  {
   "cell_type": "code",
   "execution_count": null,
   "metadata": {},
   "outputs": [],
   "source": [
    "analysis_test.dimensionality_reduction()"
   ]
  },
  {
   "cell_type": "markdown",
   "metadata": {},
   "source": [
    "### Step 5: Data clustering and Markov state model estimation"
   ]
  },
  {
   "cell_type": "code",
   "execution_count": null,
   "metadata": {},
   "outputs": [],
   "source": [
    "# Clustering the data\n",
    "analysis_test.data_clustering()\n",
    "\n",
    "# Creating the Markov model\n",
    "analysis_test.cg_markov_model()"
   ]
  },
  {
   "attachments": {},
   "cell_type": "markdown",
   "metadata": {},
   "source": [
    "### Step 6: Comparing potential energy surfaces\n",
    "After constructing the Markov state model, we can compare the estimated free energy surface to the one obtained from the reference molecular dynamics (MD) simulations. In this presentation, we include plots for both 2D and 1D potential energy surfaces. To estimate the free energy surface, we first histogram the projected TICA space into 80 bins, and then we reweight the histogram using the stationary distribution of the Markov state model."
   ]
  },
  {
   "attachments": {},
   "cell_type": "markdown",
   "metadata": {},
   "source": [
    "#### A: Plotting 2D projections of the potential energy surfaces"
   ]
  },
  {
   "cell_type": "code",
   "execution_count": null,
   "metadata": {},
   "outputs": [],
   "source": [
    "# plotting parameters\n",
    "levels = np.arange(0, 7.6, 1.5)\n",
    "cmap = 'viridis'\n",
    "dimx, dimy = 0,1\n",
    "states = list(range(analysis_test.cgmodel.macronum))[::-1]\n",
    "refstates = list(range(analysis_test.refmodel.macronum))[::-1]\n",
    "\n",
    "# Creating the figure\n",
    "fig, ax = plt.subplots(ncols=2, figsize=[26,11])\n",
    "\n",
    "# Coarse-grained simulations\n",
    "plt.sca(ax[0])\n",
    "plotContour(np.concatenate(analysis_test.cgmodel.data.dat), analysis_test.cgweights, levels, dimx=dimx, dimy=dimy, cmap=cmap)\n",
    "cbar = plt.colorbar()\n",
    "cbar.ax.tick_params() \n",
    "cbar.ax.get_yaxis().labelpad = 20\n",
    "cbar.ax.set_ylabel('kcal/mol', rotation=270)\n",
    "plt.xlabel(f'TICA dim {dimx}', size=16)\n",
    "plt.ylabel(f'TICA dim {dimy}', size=16)\n",
    "plt.title('CG simulations- {:.1f}µs'.format(np.concatenate(analysis_test.cgmodel.data.dat).shape[0] * 0.002))\n",
    "\n",
    "# Reference MD simulations\n",
    "plt.sca(ax[1])\n",
    "plotContour(np.concatenate(analysis_test.refmodel.data.dat), analysis_test.mweights, levels, dimx=dimx, dimy=dimy, cmap=cmap)\n",
    "cbar = plt.colorbar()\n",
    "cbar.ax.tick_params() \n",
    "cbar.ax.get_yaxis().labelpad = 20\n",
    "cbar.ax.set_ylabel('kcal/mol', rotation=270)\n",
    "plt.xlabel(f'TICA dim {dimx}', size=16)\n",
    "plt.ylabel(f'TICA dim {dimy}', size=16)\n",
    "plt.title('Reference MD simulations - {:.1f}µs'.format(np.concatenate(analysis_test.refmodel.data.dat).shape[0] * 0.1))\n",
    "plt.show()"
   ]
  },
  {
   "attachments": {},
   "cell_type": "markdown",
   "metadata": {},
   "source": [
    "#### B: Plotting 1D projections of the potential energy surfaces"
   ]
  },
  {
   "cell_type": "code",
   "execution_count": null,
   "metadata": {},
   "outputs": [],
   "source": [
    "# 1D TICA\n",
    "def get1dtica(data, weights, bins=120, dim=0):\n",
    "    counts, bins = np.histogram(data[:,dim], bins=bins, weights=weights)\n",
    "    energy =  -Kinetics._kB*300*np.log(counts)\n",
    "    ecorr = np.min(energy[energy!=0])\n",
    "    energy = energy - ecorr\n",
    "    return energy, bins\n",
    "\n",
    "bins=120\n",
    "ref_energy, ref_bins = get1dtica(np.concatenate(analysis_test.refmodel.data.dat), analysis_test.mweights, bins=bins)\n",
    "cg_energy, cg_bins = get1dtica(np.concatenate(analysis_test.cgmodel.data.dat), analysis_test.cgweights, bins=bins)\n",
    "crystal_dist = MetricSelfDistance('name CA', pbc=None).project(analysis_test.refmol)\n",
    "analysis_test.reftic.set_params(dim=3)\n",
    "tica_crystal = analysis_test.reftic.transform(crystal_dist).flatten()\n",
    "\n",
    "# comparing the 1D TICAs\n",
    "plt.figure(figsize=[8,8])\n",
    "sns.lineplot(x=ref_bins[:-1], y=ref_energy, label='Ref', alpha=0.5)\n",
    "plt.fill_between(ref_bins[:-1], ref_energy, alpha=0.3)\n",
    "sns.lineplot(x=cg_bins[:-1], y=cg_energy, label='CG', color='lightgreen')\n",
    "plt.fill_between(cg_bins[:-1], cg_energy, alpha=0.3, color='lightgreen')\n",
    "plt.scatter(tica_crystal[0], -0.15, s=40, marker='|', c='red', label='Crystal')\n",
    "\n",
    "plt.xlabel(f'TIC 1')\n",
    "plt.ylabel(f'Free energy (kcal/mol)')\n",
    "plt.title(f'1D TICA')\n",
    "plt.legend(loc='upper center')\n",
    "plt.show()"
   ]
  }
 ],
 "metadata": {
  "kernelspec": {
   "display_name": "nnpcg",
   "language": "python",
   "name": "python3"
  },
  "language_info": {
   "codemirror_mode": {
    "name": "ipython",
    "version": 3
   },
   "file_extension": ".py",
   "mimetype": "text/x-python",
   "name": "python",
   "nbconvert_exporter": "python",
   "pygments_lexer": "ipython3",
   "version": "3.9.16"
  },
  "orig_nbformat": 4
 },
 "nbformat": 4,
 "nbformat_minor": 2
}
