{
 "cells": [
  {
   "cell_type": "code",
   "execution_count": null,
   "metadata": {},
   "outputs": [],
   "source": [
    "from nnpcg import EasySimulator"
   ]
  },
  {
   "cell_type": "code",
   "execution_count": null,
   "metadata": {},
   "outputs": [],
   "source": [
    "tt = EasySimulator(topology=\"./data/prod_alanine_dipeptide_amber/structure.prmtop\", coordinates=\"./data/prod_alanine_dipeptide_amber/input.coor\", box_dimensions=\"./data/prod_alanine_dipeptide_amber/input.xsc\")"
   ]
  },
  {
   "cell_type": "code",
   "execution_count": null,
   "metadata": {},
   "outputs": [],
   "source": [
    "tt.build_system(temperature=300)"
   ]
  },
  {
   "cell_type": "code",
   "execution_count": null,
   "metadata": {},
   "outputs": [],
   "source": [
    "tt.minimize_system(langevin_temperature=300, langevin_gamma=0.1, timestep=1, steps=500)"
   ]
  },
  {
   "cell_type": "code",
   "execution_count": null,
   "metadata": {},
   "outputs": [],
   "source": [
    "tt.run_simulation(logger_path=\"logs/\", logger_name=\"monitor.csv\", timestep=1, steps=1000, output_period=10, save_period=100, trajectoryout=\"trajectory.npy\")"
   ]
  }
 ],
 "metadata": {
  "language_info": {
   "name": "python"
  },
  "orig_nbformat": 4
 },
 "nbformat": 4,
 "nbformat_minor": 2
}
